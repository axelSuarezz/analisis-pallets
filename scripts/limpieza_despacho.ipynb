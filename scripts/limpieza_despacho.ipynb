{
 "cells": [
  {
   "cell_type": "code",
   "execution_count": 11,
   "id": "6315f113",
   "metadata": {},
   "outputs": [],
   "source": [
    "import pandas as pd\n",
    "import numpy as np\n",
    "import matplotlib.pyplot as plt"
   ]
  },
  {
   "cell_type": "code",
   "execution_count": null,
   "id": "d4e118b6",
   "metadata": {},
   "outputs": [
    {
     "data": {
      "text/html": [
       "<div>\n",
       "<style scoped>\n",
       "    .dataframe tbody tr th:only-of-type {\n",
       "        vertical-align: middle;\n",
       "    }\n",
       "\n",
       "    .dataframe tbody tr th {\n",
       "        vertical-align: top;\n",
       "    }\n",
       "\n",
       "    .dataframe thead th {\n",
       "        text-align: right;\n",
       "    }\n",
       "</style>\n",
       "<table border=\"1\" class=\"dataframe\">\n",
       "  <thead>\n",
       "    <tr style=\"text-align: right;\">\n",
       "      <th></th>\n",
       "      <th>FECHA</th>\n",
       "      <th>SOCIO</th>\n",
       "      <th>SACAR</th>\n",
       "      <th>CONTROLADO</th>\n",
       "      <th>FECHA DE \\nDESPACHO</th>\n",
       "      <th>CANTIDAD DE\\nPALLETS SACADOS</th>\n",
       "      <th>CANTIDAD DE PALLETS A CARGAR</th>\n",
       "      <th>CARGADO</th>\n",
       "      <th>TURNO</th>\n",
       "      <th>OBSERVACIONES</th>\n",
       "    </tr>\n",
       "  </thead>\n",
       "  <tbody>\n",
       "    <tr>\n",
       "      <th>0</th>\n",
       "      <td>2024-12-30 00:00:00</td>\n",
       "      <td>39</td>\n",
       "      <td>X</td>\n",
       "      <td>MIX</td>\n",
       "      <td>2025-01-02</td>\n",
       "      <td>17.0</td>\n",
       "      <td>8.0</td>\n",
       "      <td>SI</td>\n",
       "      <td>SI</td>\n",
       "      <td>NaN</td>\n",
       "    </tr>\n",
       "    <tr>\n",
       "      <th>1</th>\n",
       "      <td>2024-12-31 00:00:00</td>\n",
       "      <td>68</td>\n",
       "      <td>X</td>\n",
       "      <td>SANTIAGO/MART</td>\n",
       "      <td>2025-01-02</td>\n",
       "      <td>18.0</td>\n",
       "      <td>12.0</td>\n",
       "      <td>SI</td>\n",
       "      <td>SI</td>\n",
       "      <td>NaN</td>\n",
       "    </tr>\n",
       "    <tr>\n",
       "      <th>2</th>\n",
       "      <td>2024-12-31 00:00:00</td>\n",
       "      <td>11</td>\n",
       "      <td>X</td>\n",
       "      <td>MIX</td>\n",
       "      <td>2025-01-02</td>\n",
       "      <td>NaN</td>\n",
       "      <td>10.0</td>\n",
       "      <td>SI</td>\n",
       "      <td>SI</td>\n",
       "      <td>NaN</td>\n",
       "    </tr>\n",
       "    <tr>\n",
       "      <th>3</th>\n",
       "      <td>2024-12-30 00:00:00</td>\n",
       "      <td>59</td>\n",
       "      <td>X</td>\n",
       "      <td>CRISTIAN</td>\n",
       "      <td>2025-01-02</td>\n",
       "      <td>19.0</td>\n",
       "      <td>12.0</td>\n",
       "      <td>SI</td>\n",
       "      <td>SI</td>\n",
       "      <td>NaN</td>\n",
       "    </tr>\n",
       "    <tr>\n",
       "      <th>4</th>\n",
       "      <td>2024-12-31 00:00:00</td>\n",
       "      <td>12</td>\n",
       "      <td>X</td>\n",
       "      <td>CRISTIAN</td>\n",
       "      <td>2025-01-03</td>\n",
       "      <td>13.0</td>\n",
       "      <td>12.0</td>\n",
       "      <td>SI</td>\n",
       "      <td>SI</td>\n",
       "      <td>NaN</td>\n",
       "    </tr>\n",
       "  </tbody>\n",
       "</table>\n",
       "</div>"
      ],
      "text/plain": [
       "                 FECHA SOCIO SACAR     CONTROLADO FECHA DE \\nDESPACHO  \\\n",
       "0  2024-12-30 00:00:00    39     X            MIX          2025-01-02   \n",
       "1  2024-12-31 00:00:00    68     X  SANTIAGO/MART          2025-01-02   \n",
       "2  2024-12-31 00:00:00    11     X            MIX          2025-01-02   \n",
       "3  2024-12-30 00:00:00    59     X       CRISTIAN          2025-01-02   \n",
       "4  2024-12-31 00:00:00    12     X       CRISTIAN          2025-01-03   \n",
       "\n",
       "   CANTIDAD DE\\nPALLETS SACADOS  CANTIDAD DE PALLETS A CARGAR CARGADO TURNO  \\\n",
       "0                          17.0                           8.0      SI    SI   \n",
       "1                          18.0                          12.0      SI    SI   \n",
       "2                           NaN                          10.0      SI    SI   \n",
       "3                          19.0                          12.0      SI    SI   \n",
       "4                          13.0                          12.0      SI    SI   \n",
       "\n",
       "  OBSERVACIONES  \n",
       "0           NaN  \n",
       "1           NaN  \n",
       "2           NaN  \n",
       "3           NaN  \n",
       "4           NaN  "
      ]
     },
     "execution_count": 12,
     "metadata": {},
     "output_type": "execute_result"
    }
   ],
   "source": [
    "# TOMA DETALLE DE DESPACHOS PERO NO SE QUE DEVUELVE\n",
    "ruta = 'C:/Users/Sistemas/Desktop/pallets_cruzados_nuevo/data/detalle_de_despachos.xlsx'\n",
    "df_despacho = pd.read_excel (ruta)\n",
    "df_despacho.head()"
   ]
  },
  {
   "cell_type": "code",
   "execution_count": 13,
   "id": "3c37e7ef",
   "metadata": {},
   "outputs": [
    {
     "name": "stdout",
     "output_type": "stream",
     "text": [
      "Columnas disponibles: ['fecha', 'socio', 'sacar', 'controlado', 'fecha de \\ndespacho', 'cantidad de\\npallets sacados', 'cantidad de pallets a cargar', 'cargado', 'turno', 'observaciones']\n"
     ]
    }
   ],
   "source": [
    "# Elimina espacios y normaliza (ej: 'Estado    ' -> 'Estado')\n",
    "df_despacho.columns = df_despacho.columns.str.strip()  # Quita espacios\n",
    "# Opcional: convertir a minúsculas (para uniformidad)\n",
    "df_despacho.columns = df_despacho.columns.str.lower()  # 'Estado' -> 'estado'\n",
    "print(\"Columnas disponibles:\", df_despacho.columns.tolist())"
   ]
  },
  {
   "cell_type": "code",
   "execution_count": 14,
   "id": "aef7f0ea",
   "metadata": {},
   "outputs": [],
   "source": [
    "df_despacho.rename(columns={'cantidad de\\npallets sacados': 'cantidad_pallets_sacados', 'fecha de \\ndespacho': 'fecha_despacho', 'cantidad de\\npallets sacados': 'cantidad_pallets_sacados', 'cantidad de pallets a cargar': 'cantidad_pallets_a_cargar'}, inplace=True)"
   ]
  },
  {
   "cell_type": "code",
   "execution_count": 15,
   "id": "6db47249",
   "metadata": {},
   "outputs": [
    {
     "name": "stdout",
     "output_type": "stream",
     "text": [
      "Columnas disponibles: ['fecha', 'id_socio', 'sacar', 'controlado', 'fecha_despacho', 'cantidad_pallets_sacados', 'cantidad_pallets_a_cargar', 'cargado', 'turno', 'observaciones']\n"
     ]
    }
   ],
   "source": [
    "df_despacho.rename(columns={'socio': 'id_socio'}, inplace=True)\n",
    "print(\"Columnas disponibles:\", df_despacho.columns.tolist())"
   ]
  },
  {
   "cell_type": "code",
   "execution_count": 16,
   "id": "932944ea",
   "metadata": {},
   "outputs": [],
   "source": [
    "df_despacho[\"fecha_despacho\"] = pd.to_datetime(df_despacho[\"fecha_despacho\"], format=\"%d/%m/%Y\", errors='coerce')"
   ]
  },
  {
   "cell_type": "code",
   "execution_count": 17,
   "id": "bef4e851",
   "metadata": {},
   "outputs": [
    {
     "data": {
      "text/html": [
       "<div>\n",
       "<style scoped>\n",
       "    .dataframe tbody tr th:only-of-type {\n",
       "        vertical-align: middle;\n",
       "    }\n",
       "\n",
       "    .dataframe tbody tr th {\n",
       "        vertical-align: top;\n",
       "    }\n",
       "\n",
       "    .dataframe thead th {\n",
       "        text-align: right;\n",
       "    }\n",
       "</style>\n",
       "<table border=\"1\" class=\"dataframe\">\n",
       "  <thead>\n",
       "    <tr style=\"text-align: right;\">\n",
       "      <th></th>\n",
       "      <th>fecha</th>\n",
       "      <th>id_socio</th>\n",
       "      <th>sacar</th>\n",
       "      <th>controlado</th>\n",
       "      <th>fecha_despacho</th>\n",
       "      <th>cantidad_pallets_sacados</th>\n",
       "      <th>cantidad_pallets_a_cargar</th>\n",
       "      <th>cargado</th>\n",
       "      <th>turno</th>\n",
       "      <th>observaciones</th>\n",
       "    </tr>\n",
       "  </thead>\n",
       "  <tbody>\n",
       "    <tr>\n",
       "      <th>0</th>\n",
       "      <td>2024-12-30 00:00:00</td>\n",
       "      <td>39</td>\n",
       "      <td>X</td>\n",
       "      <td>MIX</td>\n",
       "      <td>2025-01-02</td>\n",
       "      <td>17.0</td>\n",
       "      <td>8.0</td>\n",
       "      <td>SI</td>\n",
       "      <td>SI</td>\n",
       "      <td>NaN</td>\n",
       "    </tr>\n",
       "    <tr>\n",
       "      <th>1</th>\n",
       "      <td>2024-12-31 00:00:00</td>\n",
       "      <td>68</td>\n",
       "      <td>X</td>\n",
       "      <td>SANTIAGO/MART</td>\n",
       "      <td>2025-01-02</td>\n",
       "      <td>18.0</td>\n",
       "      <td>12.0</td>\n",
       "      <td>SI</td>\n",
       "      <td>SI</td>\n",
       "      <td>NaN</td>\n",
       "    </tr>\n",
       "    <tr>\n",
       "      <th>2</th>\n",
       "      <td>2024-12-31 00:00:00</td>\n",
       "      <td>11</td>\n",
       "      <td>X</td>\n",
       "      <td>MIX</td>\n",
       "      <td>2025-01-02</td>\n",
       "      <td>NaN</td>\n",
       "      <td>10.0</td>\n",
       "      <td>SI</td>\n",
       "      <td>SI</td>\n",
       "      <td>NaN</td>\n",
       "    </tr>\n",
       "    <tr>\n",
       "      <th>3</th>\n",
       "      <td>2024-12-30 00:00:00</td>\n",
       "      <td>59</td>\n",
       "      <td>X</td>\n",
       "      <td>CRISTIAN</td>\n",
       "      <td>2025-01-02</td>\n",
       "      <td>19.0</td>\n",
       "      <td>12.0</td>\n",
       "      <td>SI</td>\n",
       "      <td>SI</td>\n",
       "      <td>NaN</td>\n",
       "    </tr>\n",
       "    <tr>\n",
       "      <th>4</th>\n",
       "      <td>2024-12-31 00:00:00</td>\n",
       "      <td>12</td>\n",
       "      <td>X</td>\n",
       "      <td>CRISTIAN</td>\n",
       "      <td>2025-01-03</td>\n",
       "      <td>13.0</td>\n",
       "      <td>12.0</td>\n",
       "      <td>SI</td>\n",
       "      <td>SI</td>\n",
       "      <td>NaN</td>\n",
       "    </tr>\n",
       "  </tbody>\n",
       "</table>\n",
       "</div>"
      ],
      "text/plain": [
       "                 fecha id_socio sacar     controlado fecha_despacho  \\\n",
       "0  2024-12-30 00:00:00       39     X            MIX     2025-01-02   \n",
       "1  2024-12-31 00:00:00       68     X  SANTIAGO/MART     2025-01-02   \n",
       "2  2024-12-31 00:00:00       11     X            MIX     2025-01-02   \n",
       "3  2024-12-30 00:00:00       59     X       CRISTIAN     2025-01-02   \n",
       "4  2024-12-31 00:00:00       12     X       CRISTIAN     2025-01-03   \n",
       "\n",
       "   cantidad_pallets_sacados  cantidad_pallets_a_cargar cargado turno  \\\n",
       "0                      17.0                        8.0      SI    SI   \n",
       "1                      18.0                       12.0      SI    SI   \n",
       "2                       NaN                       10.0      SI    SI   \n",
       "3                      19.0                       12.0      SI    SI   \n",
       "4                      13.0                       12.0      SI    SI   \n",
       "\n",
       "  observaciones  \n",
       "0           NaN  \n",
       "1           NaN  \n",
       "2           NaN  \n",
       "3           NaN  \n",
       "4           NaN  "
      ]
     },
     "execution_count": 17,
     "metadata": {},
     "output_type": "execute_result"
    }
   ],
   "source": [
    "df_despacho.head()"
   ]
  },
  {
   "cell_type": "code",
   "execution_count": 18,
   "id": "26d58d95",
   "metadata": {},
   "outputs": [],
   "source": [
    "df_despacho['cantidad_pallets_sacados'] = df_despacho['cantidad_pallets_sacados'].fillna(0).astype(int)"
   ]
  },
  {
   "cell_type": "code",
   "execution_count": 19,
   "id": "17612b13",
   "metadata": {
    "vscode": {
     "languageId": "ruby"
    }
   },
   "outputs": [
    {
     "data": {
      "text/html": [
       "<div>\n",
       "<style scoped>\n",
       "    .dataframe tbody tr th:only-of-type {\n",
       "        vertical-align: middle;\n",
       "    }\n",
       "\n",
       "    .dataframe tbody tr th {\n",
       "        vertical-align: top;\n",
       "    }\n",
       "\n",
       "    .dataframe thead th {\n",
       "        text-align: right;\n",
       "    }\n",
       "</style>\n",
       "<table border=\"1\" class=\"dataframe\">\n",
       "  <thead>\n",
       "    <tr style=\"text-align: right;\">\n",
       "      <th></th>\n",
       "      <th>id_socio</th>\n",
       "      <th>fecha_despacho</th>\n",
       "      <th>cantidad_pallets_sacados</th>\n",
       "    </tr>\n",
       "  </thead>\n",
       "  <tbody>\n",
       "    <tr>\n",
       "      <th>0</th>\n",
       "      <td>1</td>\n",
       "      <td>2025-03-19</td>\n",
       "      <td>2</td>\n",
       "    </tr>\n",
       "    <tr>\n",
       "      <th>1</th>\n",
       "      <td>3</td>\n",
       "      <td>2025-01-04</td>\n",
       "      <td>4</td>\n",
       "    </tr>\n",
       "    <tr>\n",
       "      <th>2</th>\n",
       "      <td>3</td>\n",
       "      <td>2025-01-07</td>\n",
       "      <td>2</td>\n",
       "    </tr>\n",
       "    <tr>\n",
       "      <th>3</th>\n",
       "      <td>3</td>\n",
       "      <td>2025-01-09</td>\n",
       "      <td>5</td>\n",
       "    </tr>\n",
       "    <tr>\n",
       "      <th>4</th>\n",
       "      <td>3</td>\n",
       "      <td>2025-01-13</td>\n",
       "      <td>4</td>\n",
       "    </tr>\n",
       "  </tbody>\n",
       "</table>\n",
       "</div>"
      ],
      "text/plain": [
       "  id_socio fecha_despacho  cantidad_pallets_sacados\n",
       "0        1     2025-03-19                         2\n",
       "1        3     2025-01-04                         4\n",
       "2        3     2025-01-07                         2\n",
       "3        3     2025-01-09                         5\n",
       "4        3     2025-01-13                         4"
      ]
     },
     "execution_count": 19,
     "metadata": {},
     "output_type": "execute_result"
    }
   ],
   "source": [
    "# Crear un diccionario para mapear los socios combinados\n",
    "map_socio = {\n",
    "    11: '11.111', 111: '11.111',\n",
    "    17: '17.39', 39: '17.39',\n",
    "    25: '25.63', 63: '25.63'\n",
    "}\n",
    "\n",
    "# Reemplazar los valores de id_socio según el mapeo\n",
    "df_despacho['id_socio'] = df_despacho['id_socio'].replace(map_socio)\n",
    "\n",
    "# Agrupar por id_socio y fecha_despacho, sumando cantidad_pallets_sacados\n",
    "df_despacho_agrupado = df_despacho.groupby(['id_socio', 'fecha_despacho'], as_index=False).agg({\n",
    "    'cantidad_pallets_sacados': 'sum',\n",
    "    # Puedes agregar más columnas si es necesario\n",
    "})\n",
    "\n",
    "df_despacho_agrupado.head()\n"
   ]
  },
  {
   "cell_type": "code",
   "execution_count": 20,
   "id": "b96d3186",
   "metadata": {
    "vscode": {
     "languageId": "ruby"
    }
   },
   "outputs": [],
   "source": [
    "ruta = 'C:/Users/Sistemas/Desktop/pallets_cruzados_nuevo/data'\n",
    "df_despacho_agrupado.to_excel(f'{ruta}/despacho_limpio.xlsx', index=False)"
   ]
  },
  {
   "cell_type": "code",
   "execution_count": 21,
   "id": "bac30c55",
   "metadata": {
    "vscode": {
     "languageId": "ruby"
    }
   },
   "outputs": [
    {
     "data": {
      "text/html": [
       "<div>\n",
       "<style scoped>\n",
       "    .dataframe tbody tr th:only-of-type {\n",
       "        vertical-align: middle;\n",
       "    }\n",
       "\n",
       "    .dataframe tbody tr th {\n",
       "        vertical-align: top;\n",
       "    }\n",
       "\n",
       "    .dataframe thead th {\n",
       "        text-align: right;\n",
       "    }\n",
       "</style>\n",
       "<table border=\"1\" class=\"dataframe\">\n",
       "  <thead>\n",
       "    <tr style=\"text-align: right;\">\n",
       "      <th></th>\n",
       "      <th>id_socio</th>\n",
       "      <th>fecha_despacho</th>\n",
       "      <th>cantidad_pallets_sacados</th>\n",
       "    </tr>\n",
       "  </thead>\n",
       "  <tbody>\n",
       "    <tr>\n",
       "      <th>0</th>\n",
       "      <td>1</td>\n",
       "      <td>2025-03-19</td>\n",
       "      <td>2</td>\n",
       "    </tr>\n",
       "    <tr>\n",
       "      <th>28</th>\n",
       "      <td>3</td>\n",
       "      <td>2025-03-01</td>\n",
       "      <td>3</td>\n",
       "    </tr>\n",
       "    <tr>\n",
       "      <th>29</th>\n",
       "      <td>3</td>\n",
       "      <td>2025-03-05</td>\n",
       "      <td>3</td>\n",
       "    </tr>\n",
       "    <tr>\n",
       "      <th>30</th>\n",
       "      <td>3</td>\n",
       "      <td>2025-03-07</td>\n",
       "      <td>2</td>\n",
       "    </tr>\n",
       "    <tr>\n",
       "      <th>31</th>\n",
       "      <td>3</td>\n",
       "      <td>2025-03-10</td>\n",
       "      <td>1</td>\n",
       "    </tr>\n",
       "  </tbody>\n",
       "</table>\n",
       "</div>"
      ],
      "text/plain": [
       "   id_socio fecha_despacho  cantidad_pallets_sacados\n",
       "0         1     2025-03-19                         2\n",
       "28        3     2025-03-01                         3\n",
       "29        3     2025-03-05                         3\n",
       "30        3     2025-03-07                         2\n",
       "31        3     2025-03-10                         1"
      ]
     },
     "execution_count": 21,
     "metadata": {},
     "output_type": "execute_result"
    }
   ],
   "source": [
    "# Filtrar las filas donde fecha_despacho corresponde al mes de marzo\n",
    "df_marzo = df_despacho_agrupado[df_despacho_agrupado['fecha_despacho'].dt.month == 3]\n",
    "\n",
    "df_marzo.head()"
   ]
  },
  {
   "cell_type": "code",
   "execution_count": 27,
   "id": "83345431",
   "metadata": {
    "vscode": {
     "languageId": "ruby"
    }
   },
   "outputs": [],
   "source": [
    "ruta = 'C:/Users/Sistemas/Desktop/pallets_cruzados_nuevo/data'\n",
    "df_marzo.to_excel(f'{ruta}/despacho_limpio_marzo1.xlsx', index=False)"
   ]
  },
  {
   "cell_type": "code",
   "execution_count": 24,
   "id": "6ffbdac1",
   "metadata": {
    "vscode": {
     "languageId": "ruby"
    }
   },
   "outputs": [
    {
     "name": "stdout",
     "output_type": "stream",
     "text": [
      "datetime64[ns]\n",
      "0   2025-01-02\n",
      "1   2025-01-02\n",
      "2   2025-01-02\n",
      "3   2025-01-02\n",
      "4   2025-01-03\n",
      "Name: fecha_despacho, dtype: datetime64[ns]\n"
     ]
    }
   ],
   "source": [
    "print(df_despacho['fecha_despacho'].dtype)\n",
    "print(df_despacho['fecha_despacho'].head())"
   ]
  },
  {
   "cell_type": "code",
   "execution_count": 25,
   "id": "8c7ec1a6",
   "metadata": {
    "vscode": {
     "languageId": "ruby"
    }
   },
   "outputs": [],
   "source": [
    "df_despacho['fecha_despacho'] = pd.to_datetime(df_despacho['fecha_despacho']).dt.date\n"
   ]
  },
  {
   "cell_type": "code",
   "execution_count": 26,
   "id": "19470366",
   "metadata": {
    "vscode": {
     "languageId": "ruby"
    }
   },
   "outputs": [],
   "source": [
    "df_despacho['id_socio'] = df_despacho['id_socio'].astype(str)\n",
    "map_socio = {str(k): v for k, v in map_socio.items()}\n",
    "df_despacho['id_socio'] = df_despacho['id_socio'].replace(map_socio)\n"
   ]
  }
 ],
 "metadata": {
  "kernelspec": {
   "display_name": "Python 3",
   "language": "python",
   "name": "python3"
  },
  "language_info": {
   "codemirror_mode": {
    "name": "ipython",
    "version": 3
   },
   "file_extension": ".py",
   "mimetype": "text/x-python",
   "name": "python",
   "nbconvert_exporter": "python",
   "pygments_lexer": "ipython3",
   "version": "3.13.2"
  }
 },
 "nbformat": 4,
 "nbformat_minor": 5
}
