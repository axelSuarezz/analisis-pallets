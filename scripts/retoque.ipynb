{
 "cells": [
  {
   "cell_type": "code",
   "execution_count": 14,
   "id": "b7661bbe",
   "metadata": {},
   "outputs": [],
   "source": [
    "import pandas as pd\n",
    "import numpy as np\n",
    "import matplotlib.pyplot as plt\n",
    "\n",
    "ruta1 = 'C:/Users/Sistemas/Desktop/pallets_cruzados_nuevo/data/marzo_limpio.xlsx'\n",
    "ruta2 = 'C:/Users/Sistemas/Desktop/pallets_cruzados_nuevo/data/despacho_limpio.xlsx'\n",
    "ruta3 = 'C:/Users/Sistemas/Desktop/pallets_cruzados_nuevo/data/cruce_despacho_marzo.xlsx'\n",
    "ruta4 = 'C:/Users/Sistemas/Desktop/pallets_cruzados_nuevo/data/coincidencias_prueba.xlsx'\n",
    "\n",
    "df_despacho = pd.read_excel (ruta2)\n",
    "df_despacho.head()\n",
    "\n",
    "df_marzo = pd.read_excel (ruta1)\n",
    "df_marzo.head()\n",
    "\n",
    "df_cruce = pd.read_excel (ruta3)\n",
    "df_cruce.head()\n",
    "\n",
    "df_coincidencias = pd.read_excel (ruta4)"
   ]
  },
  {
   "cell_type": "code",
   "execution_count": 15,
   "id": "85a5201e",
   "metadata": {
    "vscode": {
     "languageId": "ruby"
    }
   },
   "outputs": [
    {
     "name": "stdout",
     "output_type": "stream",
     "text": [
      "      id_socio fecha_despacho  cantidad_pallets_sacados\n",
      "0        76.00     2024-12-31                         7\n",
      "1         9.00     2025-01-02                         3\n",
      "2        16.00     2025-01-02                         6\n",
      "3        38.00     2025-01-02                         5\n",
      "4        59.00     2025-01-02                        19\n",
      "...        ...            ...                       ...\n",
      "1576     76.00     2025-05-12                         0\n",
      "1577    122.00     2025-05-12                        14\n",
      "1578    128.00     2025-05-12                        12\n",
      "1579    135.00     2025-05-12                         0\n",
      "1580     25.63     2025-05-12                        32\n",
      "\n",
      "[1579 rows x 3 columns]\n"
     ]
    }
   ],
   "source": [
    "# Asegurarse de que las columnas relevantes tengan el mismo tipo de datos\n",
    "df_despacho['id_socio'] = df_despacho['id_socio'].astype(float)\n",
    "df_cruce['id_socio'] = df_cruce['id_socio'].astype(float)\n",
    "\n",
    "# Filtrar las coincidencias nuevamente\n",
    "coincidencias = df_despacho[df_despacho['id_socio'].isin(df_cruce['id_socio'])]\n",
    "print(coincidencias)"
   ]
  },
  {
   "cell_type": "code",
   "execution_count": 16,
   "id": "0648d825",
   "metadata": {},
   "outputs": [
    {
     "name": "stdout",
     "output_type": "stream",
     "text": [
      "     id_socio                             socio      fecha  pallets  base  \\\n",
      "110    11.111  SANTOGIANI NANCY Y LA LIPELA SRL 2025-03-01      115    10   \n",
      "111    11.111  SANTOGIANI NANCY Y LA LIPELA SRL 2025-03-05       83    10   \n",
      "112    11.111  SANTOGIANI NANCY Y LA LIPELA SRL 2025-03-06       86    10   \n",
      "113    11.111  SANTOGIANI NANCY Y LA LIPELA SRL 2025-03-07       85    10   \n",
      "114    11.111  SANTOGIANI NANCY Y LA LIPELA SRL 2025-03-08       94    10   \n",
      "..        ...                               ...        ...      ...   ...   \n",
      "303    25.630                   MAIOLA SANTIAGO 2025-03-25       20    10   \n",
      "304    25.630                   MAIOLA SANTIAGO 2025-03-26       18    10   \n",
      "305    25.630                   MAIOLA SANTIAGO 2025-03-27       12    10   \n",
      "306    25.630                   MAIOLA SANTIAGO 2025-03-28       24    10   \n",
      "307    25.630                   MAIOLA SANTIAGO 2025-03-29       16    10   \n",
      "\n",
      "     Promedio pallets por socio diario Porcentaje pallets por socio  \\\n",
      "110                                 55                        8.63%   \n",
      "111                                 55                        8.63%   \n",
      "112                                 55                        8.63%   \n",
      "113                                 55                        8.63%   \n",
      "114                                 55                        8.63%   \n",
      "..                                 ...                          ...   \n",
      "303                                 19                        2.98%   \n",
      "304                                 19                        2.98%   \n",
      "305                                 19                        2.98%   \n",
      "306                                 19                        2.98%   \n",
      "307                                 19                        2.98%   \n",
      "\n",
      "     Parte variable  Total final por socio  \\\n",
      "110              28                     38   \n",
      "111              28                     38   \n",
      "112              28                     38   \n",
      "113              28                     38   \n",
      "114              28                     38   \n",
      "..              ...                    ...   \n",
      "303               9                     19   \n",
      "304               9                     19   \n",
      "305               9                     19   \n",
      "306               9                     19   \n",
      "307               9                     19   \n",
      "\n",
      "     Exceso Palets contra (Fijo+Variable)  Exceso contra Fijo  \\\n",
      "110                                   -17                  45   \n",
      "111                                   -17                  45   \n",
      "112                                   -17                  45   \n",
      "113                                   -17                  45   \n",
      "114                                   -17                  45   \n",
      "..                                    ...                 ...   \n",
      "303                                     1                   9   \n",
      "304                                     1                   9   \n",
      "305                                     1                   9   \n",
      "306                                     1                   9   \n",
      "307                                     1                   9   \n",
      "\n",
      "     cantidad_pallets_sacados  stock_ayer  ingresos_estimados  \\\n",
      "110                        35         NaN                 NaN   \n",
      "111                         8       115.0               -32.0   \n",
      "112                         8        83.0                 3.0   \n",
      "113                         4        86.0                -1.0   \n",
      "114                        30        85.0                 9.0   \n",
      "..                        ...         ...                 ...   \n",
      "303                         5        20.0                 0.0   \n",
      "304                        14        20.0                -2.0   \n",
      "305                        12        18.0                -6.0   \n",
      "306                        24        12.0                12.0   \n",
      "307                         7        24.0                -8.0   \n",
      "\n",
      "     rotacion_diaria  promedio_rotacion_mensual  \n",
      "110              NaN                        0.0  \n",
      "111              0.0                        0.0  \n",
      "112              0.0                        0.0  \n",
      "113              0.0                        0.0  \n",
      "114              0.0                        0.0  \n",
      "..               ...                        ...  \n",
      "303              0.0                        0.0  \n",
      "304              0.0                        0.0  \n",
      "305              0.0                        0.0  \n",
      "306              0.0                        0.0  \n",
      "307              0.0                        0.0  \n",
      "\n",
      "[66 rows x 16 columns]\n"
     ]
    }
   ],
   "source": [
    "# Filtrar las filas de coincidencias con los ids específicos\n",
    "ids_especificos = [11.111, 17.39, 25.63]\n",
    "coincidencias_filtradas = coincidencias[coincidencias['id_socio'].isin(ids_especificos)]\n",
    "\n",
    "# Actualizar df_cruce con los valores de coincidencias_filtradas\n",
    "for _, row in coincidencias_filtradas.iterrows():\n",
    "    df_cruce.loc[\n",
    "        (df_cruce['id_socio'] == row['id_socio']) & (df_cruce['fecha'] == row['fecha_despacho']),\n",
    "        'cantidad_pallets_sacados'\n",
    "    ] = row['cantidad_pallets_sacados']\n",
    "\n",
    "# Verificar los cambios\n",
    "print(df_cruce[df_cruce['id_socio'].isin(ids_especificos)])"
   ]
  },
  {
   "cell_type": "code",
   "execution_count": 18,
   "id": "5dce7d23",
   "metadata": {},
   "outputs": [],
   "source": [
    "df_cruce.to_excel('prueba.xlsx', index=False)"
   ]
  }
 ],
 "metadata": {
  "kernelspec": {
   "display_name": "Python 3",
   "language": "python",
   "name": "python3"
  },
  "language_info": {
   "codemirror_mode": {
    "name": "ipython",
    "version": 3
   },
   "file_extension": ".py",
   "mimetype": "text/x-python",
   "name": "python",
   "nbconvert_exporter": "python",
   "pygments_lexer": "ipython3",
   "version": "3.13.2"
  }
 },
 "nbformat": 4,
 "nbformat_minor": 5
}
