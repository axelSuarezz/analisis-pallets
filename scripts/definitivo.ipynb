{
 "cells": [
  {
   "cell_type": "code",
   "execution_count": 1,
   "id": "31f6119a",
   "metadata": {},
   "outputs": [
    {
     "data": {
      "text/html": [
       "<div>\n",
       "<style scoped>\n",
       "    .dataframe tbody tr th:only-of-type {\n",
       "        vertical-align: middle;\n",
       "    }\n",
       "\n",
       "    .dataframe tbody tr th {\n",
       "        vertical-align: top;\n",
       "    }\n",
       "\n",
       "    .dataframe thead th {\n",
       "        text-align: right;\n",
       "    }\n",
       "</style>\n",
       "<table border=\"1\" class=\"dataframe\">\n",
       "  <thead>\n",
       "    <tr style=\"text-align: right;\">\n",
       "      <th></th>\n",
       "      <th>id_socio</th>\n",
       "      <th>socio</th>\n",
       "      <th>fecha</th>\n",
       "      <th>pallets</th>\n",
       "      <th>base</th>\n",
       "      <th>Promedio pallets por socio diario</th>\n",
       "      <th>Porcentaje pallets por socio</th>\n",
       "      <th>Parte variable</th>\n",
       "      <th>Total final por socio</th>\n",
       "      <th>Exceso Palets contra (Fijo+Variable)</th>\n",
       "      <th>Exceso contra Fijo</th>\n",
       "      <th>cantidad_pallets_sacados</th>\n",
       "      <th>stock_ayer</th>\n",
       "      <th>ingresos_estimados</th>\n",
       "      <th>rotacion_diaria</th>\n",
       "      <th>promedio_rotacion_mensual</th>\n",
       "    </tr>\n",
       "  </thead>\n",
       "  <tbody>\n",
       "    <tr>\n",
       "      <th>0</th>\n",
       "      <td>3.0</td>\n",
       "      <td>DOZ CARLOS</td>\n",
       "      <td>2025-03-01</td>\n",
       "      <td>24</td>\n",
       "      <td>10</td>\n",
       "      <td>19</td>\n",
       "      <td>3.00%</td>\n",
       "      <td>9</td>\n",
       "      <td>19</td>\n",
       "      <td>0</td>\n",
       "      <td>9</td>\n",
       "      <td>3</td>\n",
       "      <td>NaN</td>\n",
       "      <td>NaN</td>\n",
       "      <td>NaN</td>\n",
       "      <td>0.076762</td>\n",
       "    </tr>\n",
       "    <tr>\n",
       "      <th>1</th>\n",
       "      <td>3.0</td>\n",
       "      <td>DOZ CARLOS</td>\n",
       "      <td>2025-03-05</td>\n",
       "      <td>20</td>\n",
       "      <td>10</td>\n",
       "      <td>19</td>\n",
       "      <td>3.00%</td>\n",
       "      <td>9</td>\n",
       "      <td>19</td>\n",
       "      <td>0</td>\n",
       "      <td>9</td>\n",
       "      <td>3</td>\n",
       "      <td>24.0</td>\n",
       "      <td>-1.0</td>\n",
       "      <td>0.125000</td>\n",
       "      <td>0.076762</td>\n",
       "    </tr>\n",
       "    <tr>\n",
       "      <th>2</th>\n",
       "      <td>3.0</td>\n",
       "      <td>DOZ CARLOS</td>\n",
       "      <td>2025-03-06</td>\n",
       "      <td>19</td>\n",
       "      <td>10</td>\n",
       "      <td>19</td>\n",
       "      <td>3.00%</td>\n",
       "      <td>9</td>\n",
       "      <td>19</td>\n",
       "      <td>0</td>\n",
       "      <td>9</td>\n",
       "      <td>0</td>\n",
       "      <td>20.0</td>\n",
       "      <td>-1.0</td>\n",
       "      <td>0.000000</td>\n",
       "      <td>0.076762</td>\n",
       "    </tr>\n",
       "    <tr>\n",
       "      <th>3</th>\n",
       "      <td>3.0</td>\n",
       "      <td>DOZ CARLOS</td>\n",
       "      <td>2025-03-07</td>\n",
       "      <td>24</td>\n",
       "      <td>10</td>\n",
       "      <td>19</td>\n",
       "      <td>3.00%</td>\n",
       "      <td>9</td>\n",
       "      <td>19</td>\n",
       "      <td>0</td>\n",
       "      <td>9</td>\n",
       "      <td>2</td>\n",
       "      <td>19.0</td>\n",
       "      <td>7.0</td>\n",
       "      <td>0.105263</td>\n",
       "      <td>0.076762</td>\n",
       "    </tr>\n",
       "    <tr>\n",
       "      <th>4</th>\n",
       "      <td>3.0</td>\n",
       "      <td>DOZ CARLOS</td>\n",
       "      <td>2025-03-08</td>\n",
       "      <td>20</td>\n",
       "      <td>10</td>\n",
       "      <td>19</td>\n",
       "      <td>3.00%</td>\n",
       "      <td>9</td>\n",
       "      <td>19</td>\n",
       "      <td>0</td>\n",
       "      <td>9</td>\n",
       "      <td>0</td>\n",
       "      <td>24.0</td>\n",
       "      <td>-4.0</td>\n",
       "      <td>0.000000</td>\n",
       "      <td>0.076762</td>\n",
       "    </tr>\n",
       "  </tbody>\n",
       "</table>\n",
       "</div>"
      ],
      "text/plain": [
       "   id_socio       socio      fecha  pallets  base  \\\n",
       "0       3.0  DOZ CARLOS 2025-03-01       24    10   \n",
       "1       3.0  DOZ CARLOS 2025-03-05       20    10   \n",
       "2       3.0  DOZ CARLOS 2025-03-06       19    10   \n",
       "3       3.0  DOZ CARLOS 2025-03-07       24    10   \n",
       "4       3.0  DOZ CARLOS 2025-03-08       20    10   \n",
       "\n",
       "   Promedio pallets por socio diario Porcentaje pallets por socio  \\\n",
       "0                                 19                        3.00%   \n",
       "1                                 19                        3.00%   \n",
       "2                                 19                        3.00%   \n",
       "3                                 19                        3.00%   \n",
       "4                                 19                        3.00%   \n",
       "\n",
       "   Parte variable  Total final por socio  \\\n",
       "0               9                     19   \n",
       "1               9                     19   \n",
       "2               9                     19   \n",
       "3               9                     19   \n",
       "4               9                     19   \n",
       "\n",
       "   Exceso Palets contra (Fijo+Variable)  Exceso contra Fijo  \\\n",
       "0                                     0                   9   \n",
       "1                                     0                   9   \n",
       "2                                     0                   9   \n",
       "3                                     0                   9   \n",
       "4                                     0                   9   \n",
       "\n",
       "   cantidad_pallets_sacados  stock_ayer  ingresos_estimados  rotacion_diaria  \\\n",
       "0                         3         NaN                 NaN              NaN   \n",
       "1                         3        24.0                -1.0         0.125000   \n",
       "2                         0        20.0                -1.0         0.000000   \n",
       "3                         2        19.0                 7.0         0.105263   \n",
       "4                         0        24.0                -4.0         0.000000   \n",
       "\n",
       "   promedio_rotacion_mensual  \n",
       "0                   0.076762  \n",
       "1                   0.076762  \n",
       "2                   0.076762  \n",
       "3                   0.076762  \n",
       "4                   0.076762  "
      ]
     },
     "execution_count": 1,
     "metadata": {},
     "output_type": "execute_result"
    }
   ],
   "source": [
    "import pandas as pd\n",
    "import numpy as np\n",
    "import matplotlib.pyplot as plt\n",
    "\n",
    "\n",
    "ruta = 'C:/Users/Sistemas/Desktop/pallets_cruzados_nuevo/scripts/definitivo_trabajo.xlsx'\n",
    "\n",
    "df = pd.read_excel(ruta)\n",
    "\n",
    "df.head()"
   ]
  },
  {
   "cell_type": "code",
   "execution_count": 2,
   "id": "16d7b930",
   "metadata": {},
   "outputs": [
    {
     "name": "stdout",
     "output_type": "stream",
     "text": [
      "Columnas disponibles: ['id_socio', 'socio', 'fecha', 'pallets', 'base', 'promedio pallets por socio diario', 'porcentaje pallets por socio', 'parte variable', 'total final por socio', 'exceso palets contra (fijo+variable)', 'exceso contra fijo', 'cantidad_pallets_sacados', 'stock_ayer', 'ingresos_estimados', 'rotacion_diaria', 'promedio_rotacion_mensual']\n"
     ]
    }
   ],
   "source": [
    "# Elimina espacios y normaliza (ej: 'Estado    ' -> 'Estado')\n",
    "df.columns = df.columns.str.strip()  # Quita espacios\n",
    "# Opcional: convertir a minúsculas (para uniformidad)\n",
    "df.columns = df.columns.str.lower()  # 'Estado' -> 'estado'\n",
    "print(\"Columnas disponibles:\", df.columns.tolist())"
   ]
  },
  {
   "cell_type": "code",
   "execution_count": 3,
   "id": "c7f5aa97",
   "metadata": {},
   "outputs": [],
   "source": [
    "df.rename(columns={'promedio pallets por socio diario':'promedio_pallets_por_socio_diario','parte variable': 'parte_variable', 'total final por socio': 'total_final_por_socio', 'porcentaje pallets por socio': 'porcentaje_pallets_por_socio', 'promedio pallets por socio': 'promedio_pallets_por_socio', 'exceso palets contra (fijo+variable)': 'exceso_pallets_contra_fijo_+_variable', 'exceso contra fijo': 'exceso_contra_fijo'}, inplace=True)"
   ]
  },
  {
   "cell_type": "code",
   "execution_count": 4,
   "id": "80f70989",
   "metadata": {},
   "outputs": [
    {
     "name": "stdout",
     "output_type": "stream",
     "text": [
      "Columnas disponibles: ['id_socio', 'socio', 'fecha', 'pallets', 'base', 'promedio_pallets_por_socio_diario', 'porcentaje_pallets_por_socio', 'parte_variable', 'total_final_por_socio', 'exceso_pallets_contra_fijo_+_variable', 'exceso_contra_fijo', 'cantidad_pallets_sacados', 'stock_ayer', 'ingresos_estimados', 'rotacion_diaria', 'promedio_rotacion_mensual']\n"
     ]
    }
   ],
   "source": [
    "print(\"Columnas disponibles:\", df.columns.tolist())"
   ]
  },
  {
   "cell_type": "code",
   "execution_count": 5,
   "id": "bc94bdd9",
   "metadata": {},
   "outputs": [],
   "source": [
    "# Asegurar que 'fecha' esté en formato datetime\n",
    "df['fecha'] = pd.to_datetime(df['fecha'])"
   ]
  },
  {
   "cell_type": "code",
   "execution_count": 6,
   "id": "bd3c784e",
   "metadata": {},
   "outputs": [],
   "source": [
    "# Filtrar marzo\n",
    "df_marzo = df[df['fecha'].dt.month == 3].copy()"
   ]
  },
  {
   "cell_type": "code",
   "execution_count": 7,
   "id": "e5125acc",
   "metadata": {},
   "outputs": [],
   "source": [
    "# Crear caso base manual del 28 de febrero\n",
    "caso_base_febrero = pd.DataFrame({\n",
    "    'id_socio': [3, 5, 8, 9, 10, 11.111, 12, 13, 14, 16, 17.39, 19, 24, 25.63, 29, 32, 38, 53, 59, 60, 66, 68, 73, 76, 77, 79, 83, 119, 122, 128, 130, 135, 136],\n",
    "    'socio': np.nan,  # se puede completar luego si se desea\n",
    "    'fecha': pd.to_datetime('2025-02-28'),\n",
    "    'pallets': [31, 27, 23, 9, 14, 116, 43, 10, 39, 3, 59, 21, 38, 34, 48, 19, 5, 15, 30, 5, 8, 46, 30, 44, 17, 11, 21, 27, 5, 26, 23, 18, 17],\n",
    "    'cantidad_pallets_sacados': 0\n",
    "})\n",
    "\n",
    "# Unir febrero + marzo\n",
    "df_completo = pd.concat([caso_base_febrero, df_marzo], ignore_index=True)"
   ]
  },
  {
   "cell_type": "code",
   "execution_count": 8,
   "id": "f673b72e",
   "metadata": {},
   "outputs": [],
   "source": [
    "# Ordenar por socio y fecha\n",
    "df_completo = df_completo.sort_values(by=['id_socio', 'fecha']).reset_index(drop=True)"
   ]
  },
  {
   "cell_type": "code",
   "execution_count": 9,
   "id": "f0d5da26",
   "metadata": {},
   "outputs": [],
   "source": [
    "# Calcular stock_ayer\n",
    "df_completo['stock_ayer'] = df_completo.groupby('id_socio')['pallets'].shift(1)"
   ]
  },
  {
   "cell_type": "code",
   "execution_count": 10,
   "id": "4026ebde",
   "metadata": {},
   "outputs": [],
   "source": [
    "# Calcular cantidad_pallets_sacados automáticamente\n",
    "df_completo['cantidad_pallets_sacados_calc'] = (\n",
    "    df_completo['stock_ayer'] + 0  # para dejarlo explícito\n",
    "    - df_completo['pallets']\n",
    ")"
   ]
  },
  {
   "cell_type": "code",
   "execution_count": 11,
   "id": "11070b9e",
   "metadata": {},
   "outputs": [],
   "source": [
    "# Usar la columna calculada si lo deseás, o comparar\n",
    "# Calcular ingresos estimados (es lo que se agregó en el día)\n",
    "df_completo['ingresos_estimados'] = df_completo['pallets'] - (\n",
    "    df_completo['stock_ayer'] - df_completo['cantidad_pallets_sacados']\n",
    ")\n"
   ]
  },
  {
   "cell_type": "code",
   "execution_count": 12,
   "id": "48644782",
   "metadata": {},
   "outputs": [],
   "source": [
    "# Calcular rotación diaria\n",
    "df_completo['rotacion_diaria'] = df_completo['cantidad_pallets_sacados'] / df_completo['stock_ayer']\n"
   ]
  },
  {
   "cell_type": "code",
   "execution_count": 13,
   "id": "6d167464",
   "metadata": {},
   "outputs": [],
   "source": [
    "# Filtrar nuevamente marzo, ya con stock_ayer válido\n",
    "df_marzo_final = df_completo[df_completo['fecha'].dt.month == 3].copy()"
   ]
  },
  {
   "cell_type": "code",
   "execution_count": 14,
   "id": "cd8996e7",
   "metadata": {},
   "outputs": [],
   "source": [
    "# Calcular promedio de rotación mensual\n",
    "df_marzo_final['promedio_rotacion_mensual'] = df_marzo_final.groupby('id_socio')['rotacion_diaria'].transform('mean')"
   ]
  },
  {
   "cell_type": "code",
   "execution_count": 15,
   "id": "f2807775",
   "metadata": {},
   "outputs": [],
   "source": [
    "# Reordenar columnas como pediste\n",
    "columnas_ordenadas = [\n",
    "    'id_socio', \n",
    "    'socio', \n",
    "    'fecha', \n",
    "    'pallets', \n",
    "    'cantidad_pallets_sacados', \n",
    "    'stock_ayer', \n",
    "    'ingresos_estimados', \n",
    "    'rotacion_diaria', \n",
    "    'promedio_rotacion_mensual'\n",
    "]"
   ]
  },
  {
   "cell_type": "code",
   "execution_count": 16,
   "id": "d929ff1e",
   "metadata": {},
   "outputs": [],
   "source": [
    "ruta1 = 'C:/Users/Sistemas/Desktop/pallets_cruzados_nuevo/scripts/prueba.xlsx'\n",
    "df_marzo_final.to_excel(ruta1, index=False)"
   ]
  }
 ],
 "metadata": {
  "kernelspec": {
   "display_name": "Python 3",
   "language": "python",
   "name": "python3"
  },
  "language_info": {
   "codemirror_mode": {
    "name": "ipython",
    "version": 3
   },
   "file_extension": ".py",
   "mimetype": "text/x-python",
   "name": "python",
   "nbconvert_exporter": "python",
   "pygments_lexer": "ipython3",
   "version": "3.13.2"
  }
 },
 "nbformat": 4,
 "nbformat_minor": 5
}
