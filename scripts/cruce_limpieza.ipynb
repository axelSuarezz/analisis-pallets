{
 "cells": [
  {
   "cell_type": "code",
   "execution_count": 1,
   "id": "68e49cea",
   "metadata": {},
   "outputs": [],
   "source": [
    "import pandas as pd\n",
    "import numpy as np\n",
    "import matplotlib.pyplot as plt\n",
    "import os\n"
   ]
  },
  {
   "cell_type": "code",
   "execution_count": 2,
   "id": "c9de621c",
   "metadata": {},
   "outputs": [],
   "source": [
    "\n",
    "ruta_carpeta = 'C:/Users/Sistemas/Desktop/pallets_cruzados_nuevo/cruce_2025'\n",
    "\n",
    "# Lista para almacenar DataFrames de cada mes\n",
    "dataframes_meses = []\n",
    "\n",
    "# Iterar sobre los archivos en la carpeta\n",
    "for archivo in os.listdir(ruta_carpeta):\n",
    "    if archivo.endswith('_limpio.xlsx') and not archivo.startswith('despacho'):\n",
    "        mes = archivo.split('_')[0]  # Extraer 'enero', 'febrero', etc.\n",
    "        ruta_archivo = os.path.join(ruta_carpeta, archivo)\n",
    "        df_mes = pd.read_excel(ruta_archivo)\n",
    "        df_mes['mes'] = mes  # Opcional: agregar columna con el mes\n",
    "        dataframes_meses.append(df_mes)\n",
    "\n",
    "# Combinar todos los DataFrames mensuales en uno solo\n",
    "df_anual = pd.concat(dataframes_meses, ignore_index=True)"
   ]
  },
  {
   "cell_type": "code",
   "execution_count": 3,
   "id": "226d4e28",
   "metadata": {},
   "outputs": [],
   "source": [
    "# 3. Cargar despacho y renombrar columnas\n",
    "df_despachos = pd.read_excel(os.path.join(ruta_carpeta, 'despacho_limpio.xlsx'))\n",
    "df_despachos = df_despachos.rename(columns={\n",
    "    'fecha_despacho': 'fecha',\n",
    "    'cantidad_pallets_sacados': 'cantidad_pallets_sacados'\n",
    "})"
   ]
  },
  {
   "cell_type": "code",
   "execution_count": 4,
   "id": "f0b54189",
   "metadata": {},
   "outputs": [],
   "source": [
    "df_anual['fecha'] = pd.to_datetime(df_anual['fecha'], errors='coerce')\n",
    "df_despachos['fecha'] = pd.to_datetime(df_despachos['fecha'], errors='coerce')"
   ]
  },
  {
   "cell_type": "code",
   "execution_count": 5,
   "id": "e9d17f3b",
   "metadata": {},
   "outputs": [],
   "source": [
    "\n",
    "# 5. Hacer el merge LEFT: mantengo todos los datos de pallets y sumo el despacho\n",
    "df_completo = pd.merge(\n",
    "    df_anual,\n",
    "    df_despachos,\n",
    "    on=['id_socio', 'fecha'],\n",
    "    how='left'\n",
    ")"
   ]
  },
  {
   "cell_type": "code",
   "execution_count": 6,
   "id": "867610c6",
   "metadata": {},
   "outputs": [],
   "source": [
    "# 6. Rellenar NaN en 'cantidad_pallets_sacados' con 0 si no hubo despacho ese día\n",
    "df_completo['cantidad_pallets_sacados'] = df_completo['cantidad_pallets_sacados'].fillna(0)"
   ]
  },
  {
   "cell_type": "code",
   "execution_count": 7,
   "id": "89190d06",
   "metadata": {},
   "outputs": [
    {
     "name": "stdout",
     "output_type": "stream",
     "text": [
      "   id_socio                             socio      fecha  pallets  base  \\\n",
      "0       3.0                        DOZ CARLOS 2025-04-01       14  10.0   \n",
      "1       5.0                    GARMENDIA HUGO 2025-04-01       26  10.0   \n",
      "2       8.0                  GRAZIOSI MIRTHA  2025-04-01       32  10.0   \n",
      "3       9.0  PACI ANTONIO - DIGIANO JAVIER SH 2025-04-01        7  10.0   \n",
      "4      10.0                    ROSICA GABRIEL 2025-04-01        4  10.0   \n",
      "\n",
      "   Promedio pallets por socio diario Porcentaje pallets por socio  \\\n",
      "0                               15.0                       0.0233   \n",
      "1                               16.0                       0.0248   \n",
      "2                               38.0                        0.059   \n",
      "3                               12.0                       0.0186   \n",
      "4                               13.0                       0.0202   \n",
      "\n",
      "   Parte variable  Total final por socio  \\\n",
      "0             7.0                   17.0   \n",
      "1             8.0                   18.0   \n",
      "2            19.0                   29.0   \n",
      "3             6.0                   16.0   \n",
      "4             6.0                   16.0   \n",
      "\n",
      "   Exceso Palets contra (Fijo+Variable)  Exceso contra Fijo    mes  \\\n",
      "0                                   2.0                 5.0  abril   \n",
      "1                                   2.0                 6.0  abril   \n",
      "2                                  -8.0                28.0  abril   \n",
      "3                                   4.0                 2.0  abril   \n",
      "4                                   3.0                 3.0  abril   \n",
      "\n",
      "   cantidad_pallets_sacados  \n",
      "0                       1.0  \n",
      "1                      12.0  \n",
      "2                       7.0  \n",
      "3                       3.0  \n",
      "4                       0.0  \n"
     ]
    }
   ],
   "source": [
    "# 7. Verificar\n",
    "print(df_completo.head())"
   ]
  },
  {
   "cell_type": "code",
   "execution_count": 8,
   "id": "c39919b5",
   "metadata": {},
   "outputs": [],
   "source": [
    "# 7. Eliminar columna 'id' si existe\n",
    "if 'id' in df_completo.columns:\n",
    "    df_completo = df_completo.drop(columns=['id'])"
   ]
  },
  {
   "cell_type": "code",
   "execution_count": 9,
   "id": "13f8f5b0",
   "metadata": {},
   "outputs": [],
   "source": [
    "def calcular_metricas_por_socio(df_socio):\n",
    "    df_socio = df_socio.copy()\n",
    "    \n",
    "    # Stock del día anterior (desplazo la columna de pallets)\n",
    "    df_socio['stock_ayer'] = df_socio['pallets'].shift(1)\n",
    "    \n",
    "    # Primer fila queda sin calcular, pero se usará como base para la siguiente\n",
    "    df_socio['ingresos_estimados'] = df_socio['pallets'] - df_socio['stock_ayer'] + df_socio['cantidad_pallets_sacados']\n",
    "    df_socio['cantidad_pallets_sacados_calc'] = df_socio['stock_ayer'] + df_socio['ingresos_estimados'] - df_socio['pallets']\n",
    "    \n",
    "    # Rotación diaria: pallets que salieron dividido stock del día anterior\n",
    "    df_socio['rotacion_diaria'] = df_socio['cantidad_pallets_sacados'] / df_socio['stock_ayer']\n",
    "    \n",
    "    return df_socio"
   ]
  },
  {
   "cell_type": "code",
   "execution_count": 10,
   "id": "e05895a2",
   "metadata": {},
   "outputs": [
    {
     "name": "stderr",
     "output_type": "stream",
     "text": [
      "C:\\Users\\Sistemas\\AppData\\Local\\Temp\\ipykernel_8908\\2045275685.py:2: DeprecationWarning: DataFrameGroupBy.apply operated on the grouping columns. This behavior is deprecated, and in a future version of pandas the grouping columns will be excluded from the operation. Either pass `include_groups=False` to exclude the groupings or explicitly select the grouping columns after groupby to silence this warning.\n",
      "  df_completo = df_completo.groupby('id_socio', group_keys=False).apply(calcular_metricas_por_socio)\n"
     ]
    }
   ],
   "source": [
    "# 9. Aplicar por socio\n",
    "df_completo = df_completo.groupby('id_socio', group_keys=False).apply(calcular_metricas_por_socio)"
   ]
  },
  {
   "cell_type": "code",
   "execution_count": 11,
   "id": "30724887",
   "metadata": {},
   "outputs": [],
   "source": [
    "# 10. Borrar la primera fila de cada socio (la que no tiene datos útiles)\n",
    "df_completo = df_completo[df_completo.groupby('id_socio').cumcount() != 0].reset_index(drop=True)"
   ]
  },
  {
   "cell_type": "code",
   "execution_count": 12,
   "id": "642c78df",
   "metadata": {},
   "outputs": [],
   "source": [
    "promedios = df_completo.groupby(['id_socio', 'mes'])['rotacion_diaria'].mean().reset_index()\n",
    "promedios = promedios.rename(columns={'rotacion_diaria': 'promedio_rotacion_mensual'})\n",
    "df_completo = pd.merge(df_completo, promedios, on=['id_socio', 'mes'], how='left')"
   ]
  },
  {
   "cell_type": "code",
   "execution_count": 13,
   "id": "e784f999",
   "metadata": {},
   "outputs": [],
   "source": [
    "ruta_destino = 'C:/Users/Sistemas/Desktop/pallets_cruzados_nuevo/cruce_2025/df_completo.xlsx'\n",
    "df_completo.to_excel(ruta_destino)"
   ]
  }
 ],
 "metadata": {
  "kernelspec": {
   "display_name": "Python 3",
   "language": "python",
   "name": "python3"
  },
  "language_info": {
   "codemirror_mode": {
    "name": "ipython",
    "version": 3
   },
   "file_extension": ".py",
   "mimetype": "text/x-python",
   "name": "python",
   "nbconvert_exporter": "python",
   "pygments_lexer": "ipython3",
   "version": "3.13.2"
  }
 },
 "nbformat": 4,
 "nbformat_minor": 5
}
