{
 "cells": [
  {
   "cell_type": "code",
   "execution_count": 2,
   "id": "b36f9569",
   "metadata": {},
   "outputs": [],
   "source": [
    "import pandas as pd\n",
    "import sys\n",
    "\n",
    "ruta = 'C:/Users/Sistemas/Desktop/pallets_cruzados_nuevo/test/test_limpieza_de_despacho.xlsx'\n",
    "\n",
    "df= pd.read_excel(ruta)\n"
   ]
  },
  {
   "cell_type": "code",
   "execution_count": 3,
   "id": "cbedbf3c",
   "metadata": {},
   "outputs": [
    {
     "name": "stdout",
     "output_type": "stream",
     "text": [
      "Archivo 'mini_test_despacho.xlsx' generado con éxito!\n"
     ]
    }
   ],
   "source": [
    "# Unificar socios\n",
    "# Reemplazar los IDs de los socios que deben unificarse\n",
    "df['id_socio'] = df['id_socio'].replace({\n",
    "    111: 11,\n",
    "    63: 25,\n",
    "    39: 17\n",
    "})\n",
    "\n",
    "# Agrupar por socio y fecha, sumando los pallets\n",
    "df_unificado = df.groupby(['id_socio', 'fecha'])['pallets_sacados'].sum().reset_index()\n",
    "\n",
    "# Crear la columna de socio combinado para los que lo necesitan\n",
    "df_unificado['socio_combinado'] = df_unificado['id_socio'].astype(str)\n",
    "df_unificado.loc[df_unificado['id_socio'] == 11, 'socio_combinado'] = '11.111'\n",
    "df_unificado.loc[df_unificado['id_socio'] == 25, 'socio_combinado'] = '25.63'\n",
    "df_unificado.loc[df_unificado['id_socio'] == 17, 'socio_combinado'] = '17.39'\n",
    "\n",
    "# 2. Completar con ceros para todos los socios en todas las fechas\n",
    "# Lista completa de socios\n",
    "socios_completos = [\n",
    "    '3', '5', '8', '9', '10', '11.111', '12', '13', '14', '16', '17.39',\n",
    "    '19', '24', '25.63', '29', '32', '38', '53', '59', '60', '66', '68',\n",
    "    '73', '76', '77', '79', '83', '119', '122', '128', '130', '135', '136'\n",
    "]\n",
    "\n",
    "# Obtener todas las fechas únicas\n",
    "fechas_unicas = df_unificado['fecha'].unique()\n",
    "\n",
    "# Crear un MultiIndex con todas las combinaciones posibles\n",
    "multi_index = pd.MultiIndex.from_product(\n",
    "    [socios_completos, fechas_unicas],\n",
    "    names=['socio_combinado', 'fecha']\n",
    ")\n",
    "\n",
    "# Convertir el DataFrame actual al mismo formato del MultiIndex\n",
    "df_completo = df_unificado.set_index(['socio_combinado', 'fecha'])\n",
    "\n",
    "# Reindexar para incluir todas las combinaciones, llenando con 0 los faltantes\n",
    "df_completo = df_completo.reindex(multi_index, fill_value=0).reset_index()\n",
    "\n",
    "# Ordenar por socio y fecha\n",
    "df_completo = df_completo.sort_values(['socio_combinado', 'fecha'])\n",
    "\n",
    "# 3. Guardar el resultado\n",
    "df_completo.to_excel('mini_test_despacho.xlsx', index=False)\n",
    "\n",
    "print(\"Archivo 'mini_test_despacho.xlsx' generado con éxito!\")"
   ]
  }
 ],
 "metadata": {
  "kernelspec": {
   "display_name": "Python 3",
   "language": "python",
   "name": "python3"
  },
  "language_info": {
   "codemirror_mode": {
    "name": "ipython",
    "version": 3
   },
   "file_extension": ".py",
   "mimetype": "text/x-python",
   "name": "python",
   "nbconvert_exporter": "python",
   "pygments_lexer": "ipython3",
   "version": "3.13.2"
  }
 },
 "nbformat": 4,
 "nbformat_minor": 5
}
