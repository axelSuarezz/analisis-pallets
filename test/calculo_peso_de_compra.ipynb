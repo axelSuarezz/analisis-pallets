{
 "cells": [
  {
   "cell_type": "code",
   "execution_count": 3,
   "id": "2671af38",
   "metadata": {},
   "outputs": [
    {
     "name": "stdout",
     "output_type": "stream",
     "text": [
      "¡Columna 'peso_de_compra' calculada y guardada!\n",
      "   id_socio  pallets_socio_mayo  peso_de_compra\n",
      "0       3.0                  86        0.016606\n",
      "1       5.0                 115        0.022205\n",
      "2       8.0                  98        0.018923\n",
      "3       9.0                 116        0.022398\n",
      "4      10.0                 171        0.033018\n"
     ]
    }
   ],
   "source": [
    "import pandas as pd\n",
    "\n",
    "# 1. Cargar datos y filtrar mayo\n",
    "df = pd.read_excel('calculo_peso_compra.xlsx')\n",
    "df['fecha'] = pd.to_datetime(df['fecha'])\n",
    "df_mayo = df[df['fecha'].dt.month == 5].copy()\n",
    "\n",
    "# 2. Calcular ingresos_estimados (según fórmula corregida)\n",
    "df_mayo['ingresos_estimados'] = df_mayo['pallets_iniciales'] + df_mayo['cantidad_pallets_sacados'] - df_mayo['stock_ayer']\n",
    "\n",
    "# 3. Sumar pallets por socio (solo positivos)\n",
    "ingresos_positivos = df_mayo[df_mayo['ingresos_estimados'] > 0]\n",
    "suma_por_socio = ingresos_positivos.groupby('id_socio')['ingresos_estimados'].sum().reset_index()\n",
    "suma_por_socio.columns = ['id_socio', 'pallets_socio_mayo']  # Renombrar columna\n",
    "\n",
    "# 4. Calcular el total de pallets en mayo (denominador)\n",
    "total_pallets_mayo = suma_por_socio['pallets_socio_mayo'].sum()\n",
    "\n",
    "# 5. Calcular peso_de_compra\n",
    "suma_por_socio['peso_de_compra'] = suma_por_socio['pallets_socio_mayo'] / total_pallets_mayo\n",
    "\n",
    "# 6. Guardar resultado\n",
    "suma_por_socio.to_excel('peso_de_compra_mayo.xlsx', index=False)\n",
    "print(\"¡Columna 'peso_de_compra' calculada y guardada!\")\n",
    "print(suma_por_socio.head())"
   ]
  },
  {
   "cell_type": "code",
   "execution_count": 4,
   "id": "5d191e7d",
   "metadata": {},
   "outputs": [
    {
     "name": "stdout",
     "output_type": "stream",
     "text": [
      "   id_socio  pallets_socio_mayo  peso_de_compra  peso_de_compra%\n",
      "0       3.0                  86        0.016606                2\n",
      "1       5.0                 115        0.022205                3\n",
      "2       8.0                  98        0.018923                2\n",
      "3       9.0                 116        0.022398                3\n",
      "4      10.0                 171        0.033018                4\n",
      "\n",
      "¡Archivo actualizado con 'peso_de_compra%'!\n"
     ]
    }
   ],
   "source": [
    "import numpy as np\n",
    "\n",
    "# Agregar columna peso_de_compra% redondeado hacia arriba\n",
    "suma_por_socio['peso_de_compra%'] = np.ceil(suma_por_socio['peso_de_compra'] * 100).astype(int)\n",
    "\n",
    "# Mostrar resultado\n",
    "print(suma_por_socio.head())\n",
    "\n",
    "# Guardar actualización (opcional)\n",
    "suma_por_socio.to_excel('peso_de_compra_mayo%.xlsx', index=False)\n",
    "print(\"\\n¡Archivo actualizado con 'peso_de_compra%'!\")"
   ]
  }
 ],
 "metadata": {
  "kernelspec": {
   "display_name": "Python 3",
   "language": "python",
   "name": "python3"
  },
  "language_info": {
   "codemirror_mode": {
    "name": "ipython",
    "version": 3
   },
   "file_extension": ".py",
   "mimetype": "text/x-python",
   "name": "python",
   "nbconvert_exporter": "python",
   "pygments_lexer": "ipython3",
   "version": "3.13.2"
  }
 },
 "nbformat": 4,
 "nbformat_minor": 5
}
