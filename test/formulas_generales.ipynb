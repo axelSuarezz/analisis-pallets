{
 "cells": [
  {
   "cell_type": "code",
   "execution_count": 2,
   "id": "7725b0ea",
   "metadata": {},
   "outputs": [
    {
     "name": "stdout",
     "output_type": "stream",
     "text": [
      "¡Archivo corregido guardado!\n",
      "   id_socio  ingresos_por_socio_mensual\n",
      "0       3.0                        86.0\n",
      "1       5.0                       115.0\n",
      "2       8.0                        98.0\n",
      "3       9.0                       116.0\n",
      "4      10.0                       171.0\n"
     ]
    }
   ],
   "source": [
    "import pandas as pd\n",
    "\n",
    "# 1. Cargar y filtrar datos de mayo\n",
    "df = pd.read_excel('espacio_total_asignado_test.xlsx')\n",
    "df['fecha'] = pd.to_datetime(df['fecha'])\n",
    "df_mayo = df[df['fecha'].dt.month == 5].copy()\n",
    "\n",
    "# 2. Calcular ingresos_estimados (NUEVA FÓRMULA)\n",
    "df_mayo['ingresos_estimados'] = df_mayo['pallets_iniciales'] + df_mayo['cantidad_pallets_sacados'] - df_mayo['stock_ayer']\n",
    "\n",
    "# 3. Filtrar solo valores POSITIVOS y agrupar por socio\n",
    "ingresos_positivos = df_mayo[df_mayo['ingresos_estimados'] > 0]\n",
    "suma_por_socio = ingresos_positivos.groupby('id_socio')['ingresos_estimados'].sum().reset_index()\n",
    "suma_por_socio.columns = ['id_socio', 'ingresos_por_socio_mensual']\n",
    "\n",
    "# 4. Guardar y mostrar\n",
    "suma_por_socio.to_excel('suma_ingresos_positivos_mayo_CORREGIDO.xlsx', index=False)\n",
    "print(\"¡Archivo corregido guardado!\")\n",
    "print(suma_por_socio.head())"
   ]
  }
 ],
 "metadata": {
  "kernelspec": {
   "display_name": "Python 3",
   "language": "python",
   "name": "python3"
  },
  "language_info": {
   "codemirror_mode": {
    "name": "ipython",
    "version": 3
   },
   "file_extension": ".py",
   "mimetype": "text/x-python",
   "name": "python",
   "nbconvert_exporter": "python",
   "pygments_lexer": "ipython3",
   "version": "3.13.2"
  }
 },
 "nbformat": 4,
 "nbformat_minor": 5
}
